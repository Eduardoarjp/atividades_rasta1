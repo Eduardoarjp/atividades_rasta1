{
  "nbformat": 4,
  "nbformat_minor": 0,
  "metadata": {
    "colab": {
      "provenance": [],
      "authorship_tag": "ABX9TyMMxf4cvBGUHb+deE1VKXyl",
      "include_colab_link": true
    },
    "kernelspec": {
      "name": "python3",
      "display_name": "Python 3"
    },
    "language_info": {
      "name": "python"
    }
  },
  "cells": [
    {
      "cell_type": "markdown",
      "metadata": {
        "id": "view-in-github",
        "colab_type": "text"
      },
      "source": [
        "<a href=\"https://colab.research.google.com/github/Eduardoarjp/atividades_rasta/blob/main/Atividades_Rastaa.ipynb\" target=\"_parent\"><img src=\"https://colab.research.google.com/assets/colab-badge.svg\" alt=\"Open In Colab\"/></a>"
      ]
    },
    {
      "cell_type": "markdown",
      "source": [
        "Lista de exercícios - Estrutura de Repetição"
      ],
      "metadata": {
        "id": "2OFYvaDHA2NT"
      }
    },
    {
      "cell_type": "markdown",
      "source": [
        "1. Desenvolva um programa que verifique e mostre os números entre 1.000 e 2.000 que, quando divididos por 11, produzam o resto igual a 5."
      ],
      "metadata": {
        "id": "QMVTzr0JBhZ2"
      }
    },
    {
      "cell_type": "code",
      "source": [
        "# Verificar e mostrar os números entre 1.000 e 2.000 que divididos por 11 produzem resto igual a 5\n",
        "\n",
        "# Loop pelos números de 1.000 a 2.000\n",
        "for numero in range(1000, 2001):\n",
        "    # Verifica se o número dividido por 11 tem resto igual a 5\n",
        "    if numero % 11 == 5:\n",
        "        # Mostra o número que satisfaz a condição\n",
        "        print(numero)"
      ],
      "metadata": {
        "id": "aw_Cb9-m-mIq"
      },
      "execution_count": null,
      "outputs": []
    },
    {
      "cell_type": "markdown",
      "source": [
        "2. Faça um programa que mostre as tabuadas dos números de 1 a 10."
      ],
      "metadata": {
        "id": "IiBM5AqVBqbp"
      }
    },
    {
      "cell_type": "code",
      "source": [
        "for i in range(1, 11):\n",
        "    print(f\"Tabuada do {i}:\")\n",
        "    for j in range(1, 11):\n",
        "        print(f\"{i} x {j} = {i*j}\")\n",
        "    print()\n",
        "  "
      ],
      "metadata": {
        "id": "QRF_dQIK-6-y"
      },
      "execution_count": null,
      "outputs": []
    },
    {
      "cell_type": "markdown",
      "source": [
        "3. Armazene os nomes de alguns de seus amigos em uma lista chamada amigos. Exiba o nome de cada pessoa acessando cada elemento da lista um de cada vez."
      ],
      "metadata": {
        "id": "2SF4MWu_Bv-L"
      }
    },
    {
      "cell_type": "code",
      "source": [
        "#Lista de amigos\n",
        "amigos = [\"Victor\", \"Monique\", \"Camila\", \"Gabi\"]\n",
        "\n",
        "# Exibindo o nome de cada pessoa \n",
        "for amigo in amigos:\n",
        "    print(amigo)"
      ],
      "metadata": {
        "id": "eFqLs0LK_PkE"
      },
      "execution_count": null,
      "outputs": []
    },
    {
      "cell_type": "markdown",
      "source": [
        "4. Faça um programa que receba um número e que calcule e mostre a tabuada desse número."
      ],
      "metadata": {
        "id": "Z1C--Xl9B0m4"
      }
    },
    {
      "cell_type": "code",
      "source": [
        "numero = int(input(\"Digite um número: \"))\n",
        "\n",
        "print(\"Tabuada de\", numero, \":\")\n",
        "\n",
        "for i in range(1, 11):\n",
        "    resultado = numero * i\n",
        "    print(numero, \"x\", i, \"=\", resultado)"
      ],
      "metadata": {
        "id": "0GqjxSH4_lwj"
      },
      "execution_count": null,
      "outputs": []
    },
    {
      "cell_type": "markdown",
      "source": [
        "5. Utilizando a lista do exercício anterior, exiba uma saudação (\"Olá como vai você\"), personalizado com o nome de cada amigo. A saudação deve ser a mesma, alterando apenas o nome do amigo."
      ],
      "metadata": {
        "id": "wa_SqR-MB4Do"
      }
    },
    {
      "cell_type": "code",
      "source": [
        "amigos = [\"Victor\", \"Monique\", \"Camila\", \"Gabi\"]\n",
        "\n",
        "for amigo in amigos:\n",
        "    comprimentar = f\"Olá, {amigo}, como vai você?\"\n",
        "    print(comprimentar)"
      ],
      "metadata": {
        "id": "qI6PXKkW_185"
      },
      "execution_count": null,
      "outputs": []
    },
    {
      "cell_type": "markdown",
      "source": [
        "6. Seja criativo ao desenvolver este programa.\n",
        "\n",
        "  a. Crie uma lista de convidados para um jantar em sua casa, com pelo menos 5 celebridades.\n",
        "\n",
        "  b. Envie um convite para cada uma dessas pessoas. Com a mesma mensagem e nome personalizado.\n",
        "\n",
        "  c. Sabendo que uma dessas pessoas não poderá ir ao seu jantar, você deverá enviar novos convites. Imprima o nome das pessoas que não poderão comparecer.\n",
        "\n",
        "  d. Modifique sua lista, substitua os desistentes por novos convidados.\n",
        "\n",
        "  e. Exiba um novo convite para cada pessoa que continua presente em sua lista."
      ],
      "metadata": {
        "id": "HLPE64EwOAUu"
      }
    },
    {
      "cell_type": "code",
      "source": [
        "nao sei fazerrr"
      ],
      "metadata": {
        "id": "3lcfDi6uOYTm"
      },
      "execution_count": null,
      "outputs": []
    },
    {
      "cell_type": "markdown",
      "source": [
        "7. Faça um cadastro de usuários com nome, idade e email, utilizando apenas o que você aprendeu até agora."
      ],
      "metadata": {
        "id": "ahuEAb1OCFQQ"
      }
    },
    {
      "cell_type": "code",
      "source": [
        "import csv\n",
        "\n",
        "def cadastrar_usuario(nome, idade, email):\n",
        "    with open('usuarios.csv', 'a', newline='') as file:\n",
        "        writer = csv.writer(file)\n",
        "        writer.writerow([nome, idade, email])\n",
        "    print(\"Usuário cadastrado com sucesso!\")\n",
        "\n",
        "# Exemplo de uso:\n",
        "nome = input(\"Digite o nome do usuário: \")\n",
        "idade = input(\"Digite a idade do usuário: \")\n",
        "email = input(\"Digite o email do usuário: \")\n",
        "\n",
        "cadastrar_usuario(nome, idade, email)"
      ],
      "metadata": {
        "id": "ao2-c5YWBJj-"
      },
      "execution_count": null,
      "outputs": []
    },
    {
      "cell_type": "markdown",
      "source": [
        "Lista de exercícios - Estrutura de Decisão"
      ],
      "metadata": {
        "id": "COIpAxg2Cpa0"
      }
    },
    {
      "cell_type": "markdown",
      "source": [
        "1. Solicite ao usuário um valor numérico, inteiro ou real, e verifique se ele é maior ou menor que 10. O programa deve escrever a mensagem correspondente (maior ou\n",
        "menor) e informar o valor digitado pelo usuário."
      ],
      "metadata": {
        "id": "KambhVCkCtMK"
      }
    },
    {
      "cell_type": "code",
      "source": [
        "valor = float(input(\"Digite um valor numérico: \"))\n",
        "\n",
        "if valor > 10:\n",
        "    print(\"O valor\", valor, \"é maior que 10.\")\n",
        "elif valor < 10:\n",
        "    print(\"O valor\", valor, \"é menor que 10.\")\n",
        "else:\n",
        "    print(\"O valor digitado é igual a 10.\")"
      ],
      "metadata": {
        "id": "CCzfLSmLC-MK"
      },
      "execution_count": null,
      "outputs": []
    },
    {
      "cell_type": "markdown",
      "source": [
        "2. Solicite ao usuário um valor numérico, inteiro ou real, e escrever se é positivo ou\n",
        "negativo (considere o valor zero como positivo)."
      ],
      "metadata": {
        "id": "9kiM61tmDdee"
      }
    },
    {
      "cell_type": "code",
      "source": [
        "valor = float(input(\"Digite um valor numérico: \"))\n",
        "\n",
        "if valor >= 0:\n",
        "    print(\"O valor é positivo.\")\n",
        "else:\n",
        "    print(\"O valor é negativo.\")"
      ],
      "metadata": {
        "id": "Lx2vZ1L2DflV"
      },
      "execution_count": null,
      "outputs": []
    },
    {
      "cell_type": "markdown",
      "source": [
        "3. As maçãs custam 1,30 cada, se forem compradas menos de uma dúzia, e 1,00 se\n",
        "forem compradas pelo menos 12. Escreva um programa que leia o número de maçãs\n",
        "compradas, calcule e escreva o custo total da compra."
      ],
      "metadata": {
        "id": "09QWlomFDuPD"
      }
    },
    {
      "cell_type": "code",
      "source": [
        "quantidade = int(input(\"Digite o número de maçãs compradas: \"))\n",
        "\n",
        "if quantidade < 12:\n",
        "    custo_total = quantidade * 1.30\n",
        "else:\n",
        "    custo_total = quantidade * 1.00\n",
        "\n",
        "print(\"O custo total da compra é:\", custo_total)"
      ],
      "metadata": {
        "id": "oRtaTrqBDwxR"
      },
      "execution_count": null,
      "outputs": []
    },
    {
      "cell_type": "markdown",
      "source": [
        "4. Ler as notas da 1a. e 2a. avaliações de um aluno. Calcular a média aritmética simples\n",
        "e escrever uma mensagem que diga se o aluno foi ou não aprovado (considerar que\n",
        "nota igual ou maior que 6 o aluno é aprovado). Escrever também a média calculada."
      ],
      "metadata": {
        "id": "hOiyPQJhEHoO"
      }
    },
    {
      "cell_type": "code",
      "source": [
        "nota1 = float(input(\"Digite a nota da 1ª avaliação: \"))\n",
        "nota2 = float(input(\"Digite a nota da 2ª avaliação: \"))\n",
        "\n",
        "media = (nota1 + nota2) / 2\n",
        "\n",
        "if media >= 6:\n",
        "    print(\"Parabéns! Você foi aprovado.\")\n",
        "else:\n",
        "    print(\"Infelizmente, você não foi aprovado.\")\n",
        "\n",
        "print(\"Média: \", media)"
      ],
      "metadata": {
        "id": "9JpXXPWyEJ4m"
      },
      "execution_count": null,
      "outputs": []
    },
    {
      "cell_type": "markdown",
      "source": [
        "5. Ler dois valores (considere que não serão lidos valores iguais) e escrever o maior\n",
        "deles."
      ],
      "metadata": {
        "id": "akyx8APmEjnq"
      }
    },
    {
      "cell_type": "code",
      "source": [
        "valor1 = float(input(\"Digite o primeiro valor: \"))\n",
        "valor2 = float(input(\"Digite o segundo valor: \"))\n",
        "\n",
        "if valor1 > valor2:\n",
        "    print(\"O maior valor é:\", valor1)\n",
        "else:\n",
        "    print(\"O maior valor é:\", valor2)"
      ],
      "metadata": {
        "id": "1Twgz2_PEfEF"
      },
      "execution_count": null,
      "outputs": []
    },
    {
      "cell_type": "markdown",
      "source": [
        "6. Ler dois valores (considere que não serão lidos valores iguais) e escrevê-los em\n",
        "ordem crescente."
      ],
      "metadata": {
        "id": "FZmTJMUTE2C5"
      }
    },
    {
      "cell_type": "code",
      "source": [
        "# Ler os dois valores\n",
        "valor1 = float(input(\"Digite o primeiro valor: \"))\n",
        "valor2 = float(input(\"Digite o segundo valor: \"))\n",
        "\n",
        "# Verificar a ordem e escrever os valores em ordem crescente\n",
        "if valor1 < valor2:\n",
        "    print(\"Valores em ordem crescente:\", valor1, valor2)\n",
        "else:\n",
        "    print(\"Valores em ordem crescente:\", valor2, valor1)"
      ],
      "metadata": {
        "id": "qSa4EFnjExM7"
      },
      "execution_count": null,
      "outputs": []
    },
    {
      "cell_type": "markdown",
      "source": [
        "7. Faça um algoritmo para ler: número da conta do cliente, saldo, débito e crédito. Após,\n",
        "calcular e escrever o saldo atual (saldo atual = saldo - débito + crédito). Também\n",
        "testar se saldo atual for maior ou igual a zero escrever a mensagem 'Saldo Positivo',\n",
        "senão escrever a mensagem 'Saldo Negativo'."
      ],
      "metadata": {
        "id": "Hb6vFxMZFAs6"
      }
    },
    {
      "cell_type": "code",
      "source": [
        "numero_conta = int(input(\"Digite o número da conta do cliente: \"))\n",
        "saldo = float(input(\"Digite o saldo da conta: \"))\n",
        "debito = float(input(\"Digite o valor do débito: \"))\n",
        "credito = float(input(\"Digite o valor do crédito: \"))\n",
        "\n",
        "# Calcular o saldo atual\n",
        "saldo_atual = saldo - debito + credito\n",
        "\n",
        "# Verificar se o saldo atual é positivo ou negativo\n",
        "if saldo_atual >= 0:\n",
        "    mensagem = \"Saldo Positivo\"\n",
        "else:\n",
        "    mensagem = \"Saldo Negativo\"\n",
        "\n",
        "# Escrever o saldo atual e a mensagem correspondente\n",
        "print(\"Saldo atual:\", saldo_atual)\n",
        "print(mensagem)"
      ],
      "metadata": {
        "id": "lXUFtKKvFDDp"
      },
      "execution_count": null,
      "outputs": []
    },
    {
      "cell_type": "markdown",
      "source": [
        "8. Faça um algoritmo para ler: quantidade atual em estoque, quantidade máxima em\n",
        "estoque e quantidade mínima em estoque de um produto. Calcular e escrever a\n",
        "quantidade média ((quantidade média = quantidade máxima + quantidade mínima)/2).\n",
        "Se a quantidade em estoque for maior ou igual a quantidade média, escrever a\n",
        "mensagem 'Não efetuar compra', senão escrever a mensagem 'Efetuar compra'."
      ],
      "metadata": {
        "id": "xdCc5JlDFeUI"
      }
    },
    {
      "cell_type": "code",
      "source": [
        "quantidade_atual = int(input(\"Digite a quantidade atual em estoque: \"))\n",
        "quantidade_maxima = int(input(\"Digite a quantidade máxima em estoque: \"))\n",
        "quantidade_minima = int(input(\"Digite a quantidade mínima em estoque: \"))\n",
        "\n",
        "quantidade_media = (quantidade_maxima + quantidade_minima) / 2\n",
        "\n",
        "if quantidade_atual >= quantidade_media:\n",
        "    print(\"Não efetuar compra\")\n",
        "else:\n",
        "    print(\"Efetuar compra\")"
      ],
      "metadata": {
        "id": "gR-JRpE1Fg2c"
      },
      "execution_count": null,
      "outputs": []
    },
    {
      "cell_type": "markdown",
      "source": [
        "9. Faça um programa que lê as duas notas parciais obtidas por um aluno numa disciplina\n",
        "ao longo de um semestre, e calcule a sua média. A atribuição de conceitos obedece à\n",
        "tabela abaixo:\n",
        "Média de Aproveitamento Conceito\n",
        "Entre 9.0 e 10.0\n",
        "A\n",
        "Entre 7.5 e 9.0\n",
        "B\n",
        "Entre 6.0 e 7.5\n",
        "C\n",
        "Entre 4.0 e 6.0\n",
        "D\n",
        "Entre 4.0 e zero\n",
        "E\n",
        "O algoritmo deve mostrar na tela as notas, a média, o conceito correspondente e a\n",
        "mensagem “APROVADO” se o conceito for A, B ou C ou “REPROVADO” se o\n",
        "conceito for D ou E."
      ],
      "metadata": {
        "id": "OhlqTkAzGFKD"
      }
    },
    {
      "cell_type": "code",
      "source": [
        "nota1 = float(input(\"Digite a primeira nota: \"))\n",
        "nota2 = float(input(\"Digite a segunda nota: \"))\n",
        "\n",
        "media = (nota1 + nota2) / 2\n",
        "\n",
        "conceito = \"\"\n",
        "if media >= 9.0:\n",
        "    conceito = \"A\"\n",
        "elif media >= 7.5:\n",
        "    conceito = \"B\"\n",
        "elif media >= 6.0:\n",
        "    conceito = \"C\"\n",
        "elif media >= 4.0:\n",
        "    conceito = \"D\"\n",
        "else:\n",
        "    conceito = \"E\"\n",
        "\n",
        "print(\"Notas: {} e {}\".format(nota1, nota2))\n",
        "print(\"Média: {:.2f}\".format(media))\n",
        "print(\"Conceito: {}\".format(conceito))\n",
        "\n",
        "if conceito == \"A\" or conceito == \"B\" or conceito == \"C\":\n",
        "    print(\"APROVADO\")\n",
        "else:\n",
        "    print(\"REPROVADO\")"
      ],
      "metadata": {
        "id": "k1_bJxusGIe2"
      },
      "execution_count": null,
      "outputs": []
    },
    {
      "cell_type": "markdown",
      "source": [
        "Lista de exercícios - Estrutura Sequencial"
      ],
      "metadata": {
        "id": "XCpsANS3GwSu"
      }
    },
    {
      "cell_type": "markdown",
      "source": [
        "1. Faça um programa que converta metros para centímetros."
      ],
      "metadata": {
        "id": "6-h4g8XyG0mx"
      }
    },
    {
      "cell_type": "code",
      "source": [
        "metros = float(input(\"Digite a quantidade de metros: \"))\n",
        "centimetros = metros * 100\n",
        "print(f\"{metros} metros equivalem a {centimetros} centímetros.\")"
      ],
      "metadata": {
        "id": "xDqk_oJ8G1ql"
      },
      "execution_count": null,
      "outputs": []
    },
    {
      "cell_type": "markdown",
      "source": [
        "2. Faça um Programa que peça o raio de um círculo, calcule e mostre sua área."
      ],
      "metadata": {
        "id": "eDpPAExzHBiP"
      }
    },
    {
      "cell_type": "code",
      "source": [
        "import math\n",
        "\n",
        "# Solicitar o raio do usuário\n",
        "raio = float(input(\"Digite o raio do círculo: \"))\n",
        "\n",
        "# Calcular a área do círculo\n",
        "area = math.pi * raio ** 2\n",
        "\n",
        "# Exibir o resultado\n",
        "print(\"A área do círculo é:\", area)"
      ],
      "metadata": {
        "id": "MIFhFTMXHMW_"
      },
      "execution_count": null,
      "outputs": []
    },
    {
      "cell_type": "markdown",
      "source": [
        "3. Faça um Programa que calcule a área de um quadrado, em seguida mostre o dobro\n",
        "desta área para o usuário."
      ],
      "metadata": {
        "id": "XDUMhnX2HZhM"
      }
    },
    {
      "cell_type": "code",
      "source": [
        "lado = float(input(\"Digite o valor do lado do quadrado: \"))\n",
        "area = lado ** 2\n",
        "dobro_area = 2 * area\n",
        "\n",
        "print(\"A área do quadrado é:\", area)\n",
        "print(\"O dobro da área do quadrado é:\", dobro_area)"
      ],
      "metadata": {
        "id": "tlXF-u7KHdzB"
      },
      "execution_count": null,
      "outputs": []
    },
    {
      "cell_type": "markdown",
      "source": [
        "4. Faça um Programa que pergunte quanto você ganha por hora e o número de horas\n",
        "trabalhadas no mês. Calcule e mostre o total do seu salário no referido mês."
      ],
      "metadata": {
        "id": "d32dR6iYHm_5"
      }
    },
    {
      "cell_type": "code",
      "source": [
        "valor_hora = float(input(\"Quanto você ganha por hora? \"))\n",
        "horas_trabalhadas = float(input(\"Quantas horas você trabalhou no mês? \"))\n",
        "\n",
        "salario_mensal = valor_hora * horas_trabalhadas\n",
        "\n",
        "print(\"O total do seu salário no mês é R$ {:.2f}\".format(salario_mensal))"
      ],
      "metadata": {
        "id": "Br7HzeXgHpzq"
      },
      "execution_count": null,
      "outputs": []
    },
    {
      "cell_type": "markdown",
      "source": [
        "5. Faça um Programa que peça a temperatura em graus Fahrenheit, transforme e mostre\n",
        "a temperatura em graus Celsius."
      ],
      "metadata": {
        "id": "HyxTNkY_Hy96"
      }
    },
    {
      "cell_type": "code",
      "source": [
        "# Solicitar a temperatura em Fahrenheit\n",
        "fahrenheit = float(input(\"Digite a temperatura em graus Fahrenheit: \"))\n",
        "\n",
        "# Converter para Celsius\n",
        "celsius = (fahrenheit - 32) * 5/9\n",
        "\n",
        "# Exibir o resultado\n",
        "print(\"A temperatura em graus Celsius é:\", celsius)"
      ],
      "metadata": {
        "id": "wkwu-DNpH2rb"
      },
      "execution_count": null,
      "outputs": []
    },
    {
      "cell_type": "markdown",
      "source": [
        "6. Faça um Programa que peça a temperatura em graus Celsius, transforme e mostre em\n",
        "graus Fahrenheit."
      ],
      "metadata": {
        "id": "iXOsJi96IBir"
      }
    },
    {
      "cell_type": "code",
      "source": [
        "# Solicita a temperatura em graus Celsius ao usuário\n",
        "temperatura_celsius = float(input(\"Digite a temperatura em graus Celsius: \"))\n",
        "\n",
        "# Converte a temperatura para Fahrenheit\n",
        "temperatura_fahrenheit = (temperatura_celsius * 9/5) + 32\n",
        "\n",
        "# Exibe o resultado da conversão\n",
        "print(\"A temperatura em graus Fahrenheit é:\", temperatura_fahrenheit)"
      ],
      "metadata": {
        "id": "--w4XSQSIETC"
      },
      "execution_count": null,
      "outputs": []
    },
    {
      "cell_type": "markdown",
      "source": [
        "7. Faça um Programa que peça 2 números inteiros e um número real. Calcule e mostre:\n",
        "1. o produto do dobro do primeiro com metade do segundo .\n",
        "2. a soma do triplo do primeiro com o terceiro.\n",
        "3. o terceiro elevado ao cubo."
      ],
      "metadata": {
        "id": "9LiZnltkIWjf"
      }
    },
    {
      "cell_type": "code",
      "source": [
        "# Solicitar os números ao usuário\n",
        "num1 = int(input(\"Digite o primeiro número inteiro: \"))\n",
        "num2 = int(input(\"Digite o segundo número inteiro: \"))\n",
        "num3 = float(input(\"Digite o número real: \"))\n",
        "\n",
        "# Calcular o produto do dobro do primeiro com metade do segundo\n",
        "produto = (2 * num1) * (num2 / 2)\n",
        "print(\"O produto do dobro do primeiro com metade do segundo é:\", produto)\n",
        "\n",
        "# Calcular a soma do triplo do primeiro com o terceiro\n",
        "soma = (3 * num1) + num3\n",
        "print(\"A soma do triplo do primeiro com o terceiro é:\", soma)\n",
        "\n",
        "# Calcular o terceiro elevado ao cubo\n",
        "cubo = num3 ** 3\n",
        "print(\"O terceiro número elevado ao cubo é:\", cubo)"
      ],
      "metadata": {
        "id": "KNHVQwyhIdPc"
      },
      "execution_count": null,
      "outputs": []
    },
    {
      "cell_type": "markdown",
      "source": [
        "8. Tendo como dados de entrada a altura de uma pessoa, construa um algoritmo que\n",
        "calcule seu peso ideal, usando a seguinte fórmula: (72.7*altura) - 58"
      ],
      "metadata": {
        "id": "l7k5iDTDIg52"
      }
    },
    {
      "cell_type": "code",
      "source": [
        "altura = float(input(\"Digite a altura em metros: \"))\n",
        "peso_ideal = (72.7 * altura) - 58\n",
        "print(\"O peso ideal é\", peso_ideal, \"quilogramas.\")"
      ],
      "metadata": {
        "id": "KMyZ17HPIjSi"
      },
      "execution_count": null,
      "outputs": []
    },
    {
      "cell_type": "markdown",
      "source": [
        "9. Tendo como dado de entrada a altura (h) de uma pessoa, construa um algoritmo que\n",
        "calcule seu peso ideal, utilizando as seguintes fórmulas:\n",
        "  1. Para homens: (72.7*h) - 58\n",
        "  2. Para mulheres: (62.1*h) - 44.7"
      ],
      "metadata": {
        "id": "j8PYen6QIppC"
      }
    },
    {
      "cell_type": "code",
      "source": [
        "def calcular_peso_ideal(altura, genero):\n",
        "    if genero == 'homem':\n",
        "        peso_ideal = (72.7 * altura) - 58\n",
        "    elif genero == 'mulher':\n",
        "        peso_ideal = (62.1 * altura) - 44.7\n",
        "    else:\n",
        "        return \"Gênero inválido. Por favor, insira 'homem' ou 'mulher'.\"\n",
        "    \n",
        "    return peso_ideal\n",
        "\n",
        "altura = float(input(\"Digite a altura em metros: \"))\n",
        "genero = input(\"Digite o gênero (homem/mulher): \")\n",
        "\n",
        "peso_ideal = calcular_peso_ideal(altura, genero)\n",
        "print(\"O peso ideal é:\", peso_ideal, \"kg\")"
      ],
      "metadata": {
        "id": "KzuClgCVIxUT"
      },
      "execution_count": null,
      "outputs": []
    }
  ]
}